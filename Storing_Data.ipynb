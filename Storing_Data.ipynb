{
  "nbformat": 4,
  "nbformat_minor": 0,
  "metadata": {
    "colab": {
      "name": "Storing Data.ipynb",
      "provenance": []
    },
    "kernelspec": {
      "name": "python3",
      "display_name": "Python 3"
    }
  },
  "cells": [
    {
      "cell_type": "code",
      "metadata": {
        "id": "KZaDNatZH1gr",
        "colab_type": "code",
        "colab": {}
      },
      "source": [
        ""
      ],
      "execution_count": 0,
      "outputs": []
    },
    {
      "cell_type": "markdown",
      "metadata": {
        "id": "0dcKKQUyH4p9",
        "colab_type": "text"
      },
      "source": [
        "#  Hive Algorithm to Store Big Weather Data from Local File System to HDFS.\n",
        "1. Data: Weather data collected from multiple weather stations\n",
        "2. Input: Weather data ‘climatedata.txt’ in Local File System\n",
        "3. Output: Day_wise_Climate_Table in HDFS\n",
        "4. if (Table_Name ≠ NULL)\n",
        "5. then\n",
        "6. load data local inpath '${env:home}/climatedata.txt'\n",
        "7. into table Day_wise_Climate_Table;\n",
        "8. Return Hive Load Table query"
      ]
    }
  ]
}