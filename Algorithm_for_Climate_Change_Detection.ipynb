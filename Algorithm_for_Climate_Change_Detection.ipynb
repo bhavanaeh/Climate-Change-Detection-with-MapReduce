{
  "nbformat": 4,
  "nbformat_minor": 0,
  "metadata": {
    "colab": {
      "name": "Algorithm for Climate Change Detection.ipynb",
      "provenance": [],
      "collapsed_sections": []
    },
    "kernelspec": {
      "name": "python3",
      "display_name": "Python 3"
    }
  },
  "cells": [
    {
      "cell_type": "code",
      "metadata": {
        "id": "V6nNMqmM7tu-",
        "colab_type": "code",
        "colab": {}
      },
      "source": [
        ""
      ],
      "execution_count": 0,
      "outputs": []
    },
    {
      "cell_type": "markdown",
      "metadata": {
        "id": "IiUAXfCY8U5F",
        "colab_type": "text"
      },
      "source": [
        "# Proposed Algorithm for climate change detection\n",
        "\n",
        "1. Input: Seasonal weather data\n",
        "2. Output: Seasonal changes\n",
        "3. Let $C_1, C_2, …, C_i$ represent the ‘i’ data points\n",
        "4. Calculate the Standard Deviation for ‘i’ data point \n",
        " $SD =\\frac{\\sqrt{∑(C−\\varepsilon)^2}}{n}$\n",
        "5. Calculate Z score Value \n",
        "$z_i =\\frac{C_i−C}{SD}$\n",
        " \n",
        "6. Calculate Spatial Local Moran's I Value $I_i=z_i∑_jw_{ij}z_j$\n",
        "7. Calculate the average \n",
        "$\\bar I = \\frac{I_1+I_2+…+I_n}{n}$\n",
        "8. Initialize cumulative sum $S_0 = 0$\n",
        "9. Calculate the other cumulative sums \n",
        "$S_I=S_{i−1}+(I_i−\\bar I)\\space where\\space i = 1, 2, …,  n$\n",
        "10. Calculate $S_{max}=max_{i=0,1,…,n}\\space S_i$\n",
        "11. Calculate $S_{min}=min_{i=0,1,…,n}\\space S_i$\n",
        "12. Calculate $S_{diff} = S_{max} − S_{min}$\n",
        "13. Sampling without replacement: Generate a bootstrap sample of ‘n’ units, denoted $X°_1, X°_2, …, X°_n$, by randomly reordering the original ‘n’ values\n",
        "14. Calculate the bootstrap CUSUM $S°_i \\space for \\space i = 1, 2, …,  n (S°_0, S°_1, …, S°_n)$\n",
        "15. Calculate the maximum, minimum and difference of the bootstrap CUSUM, denoted $S°_{max}, S°_{min}, and \\space S°_{diff}$.\n",
        "16. Determine whether the bootstrap difference $S°_{diff}$ is less than the original difference $S_{diff}$.\n",
        "17. Let N be the number of bootstrap samples performed and let X be the number of bootstraps for which $S°_{diff}<S_{diff}$\n",
        "18. Calculate ConfidenceLevel $CI=100* \\frac{X}{N} %$"
      ]
    }
  ]
}