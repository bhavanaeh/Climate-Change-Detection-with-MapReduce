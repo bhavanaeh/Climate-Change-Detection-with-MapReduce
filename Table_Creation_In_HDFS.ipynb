{
  "nbformat": 4,
  "nbformat_minor": 0,
  "metadata": {
    "colab": {
      "name": "Table Creation In HDFS.ipynb",
      "provenance": []
    },
    "kernelspec": {
      "name": "python3",
      "display_name": "Python 3"
    }
  },
  "cells": [
    {
      "cell_type": "code",
      "metadata": {
        "id": "dPsu8r3-E3CE",
        "colab_type": "code",
        "colab": {}
      },
      "source": [
        ""
      ],
      "execution_count": 0,
      "outputs": []
    },
    {
      "cell_type": "markdown",
      "metadata": {
        "id": "EqruQTJ7FNHt",
        "colab_type": "text"
      },
      "source": [
        "# Hive Algorithm to create table in HDFS\n",
        "1. Input: Field name and data type of weather data\n",
        "2. Output: Weather table\n",
        "3. if (Weather_Table_Name ≠ NULL) or (Weather_Table _Field ≠ NULL)\n",
        "4. then\n",
        "5. for each column in Weather_Table _Field ϵ Day_wise_ Weather_Table\n",
        "6. do\n",
        "7. add field name and field data type < date Date, latitude Double, longitude Double, elevation Double, maximum_temperature Double, minimum_temperature Double, precipitation Double, wind Double, relative humidity Double, solar Double>\n",
        "8. for each row in Weather_Table_Fields ϵ Day_wise_ Weather_Table\n",
        "9. do\n",
        "10. Table_Fields terminated by ','\n",
        "11. Return Hive Create Table query\n",
        " \n",
        " \n"
      ]
    },
    {
      "cell_type": "markdown",
      "metadata": {
        "id": "8ubrLsY7FEwA",
        "colab_type": "text"
      },
      "source": [
        ""
      ]
    }
  ]
}