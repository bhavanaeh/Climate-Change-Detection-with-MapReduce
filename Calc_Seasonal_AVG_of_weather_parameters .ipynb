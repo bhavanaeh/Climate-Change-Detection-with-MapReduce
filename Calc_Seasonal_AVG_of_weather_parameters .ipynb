{
  "nbformat": 4,
  "nbformat_minor": 0,
  "metadata": {
    "colab": {
      "name": "Calculate Seasonal AVG of weather parameters.ipynb",
      "provenance": [],
      "collapsed_sections": []
    },
    "kernelspec": {
      "name": "python3",
      "display_name": "Python 3"
    }
  },
  "cells": [
    {
      "cell_type": "code",
      "metadata": {
        "id": "PlMoGO_0JGBD",
        "colab_type": "code",
        "colab": {}
      },
      "source": [
        ""
      ],
      "execution_count": 0,
      "outputs": []
    },
    {
      "cell_type": "markdown",
      "metadata": {
        "id": "nmo-8_FNJRMe",
        "colab_type": "text"
      },
      "source": [
        "#  MapReduce Algorithm to calculate the seasonal average of weather parameters from day wise weather data stored in HDFS.\n",
        "1. Data: Weather data collected from multiple weather stations\n",
        "2. Input: Weather data ‘climatedata.txt’ from HDFS\n",
        "3. Output: Seasonal_Average_Weather_Parameters to HDFS\n",
        "4. Function: Mapper\n",
        "```\n",
        "method INITIALIZE\n",
        "Sum = new ASSOCIATIVE ARRAY\n",
        "Count = new ASSOCIATIVE ARRAY\n",
        "```\n",
        "```\n",
        "method MAP〈String ncp,  double cpv〉\n",
        " #nwp=Weather parameter name\n",
        "      #wpv=Weather parameter value(day wise)\n",
        "      Sum{nwp} = Sum{nwp} + wpv\n",
        "      Count{nwp} = Sum{nwp} + 1\n",
        "     method CLOSE\n",
        "```\n",
        "```\n",
        "for all term ncp ε Sum do\n",
        "      Emit Intermediate(string nwp, pair(Sum{nwp}, Count{nwp}))\n",
        "```\n",
        " \n",
        "5. Function: Reducer\n",
        "```\n",
        " method REDUCE(String ncp,  pairs[(sum1, count1)…])\n",
        "        double final_sum=0.0;\n",
        "```\n",
        "```\n",
        "method REPEAT\n",
        "        for all pair (Sum, Count) ε pairs[(sum1, count1)to (sum122, count122)] do \n",
        "        final_sum+=sum;\n",
        "        doubleseasonal_mean_wpv=final_sum/122;\n",
        "        return(Stringnwp,doubleseasonal_mean_wpv);\n",
        "```\n",
        "\n",
        "\n",
        "\n",
        "\n",
        "\n"
      ]
    },
    {
      "cell_type": "markdown",
      "metadata": {
        "id": "7VsMVqt_KJD8",
        "colab_type": "text"
      },
      "source": [
        ""
      ]
    }
  ]
}