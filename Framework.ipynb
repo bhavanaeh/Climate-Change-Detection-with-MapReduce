{
  "nbformat": 4,
  "nbformat_minor": 0,
  "metadata": {
    "colab": {
      "name": "Framework.ipynb",
      "provenance": [],
      "collapsed_sections": []
    },
    "kernelspec": {
      "name": "python3",
      "display_name": "Python 3"
    }
  },
  "cells": [
    {
      "cell_type": "markdown",
      "metadata": {
        "id": "yfkbSzflPOKK",
        "colab_type": "text"
      },
      "source": [
        "This section explains the existing approaches for climate change detection, such as cumulative sum method and bootstrap analysis method.\n"
      ]
    },
    {
      "cell_type": "markdown",
      "metadata": {
        "id": "6rKlRoz2N0WF",
        "colab_type": "text"
      },
      "source": [
        "# Framework\n",
        "![Proposed Framework](https://drive.google.com/uc?id=1gvGqYi-H58L3mDUA6rnPSzOWhEU-lQVI)"
      ]
    },
    {
      "cell_type": "markdown",
      "metadata": {
        "id": "eS_UwR-rOvc7",
        "colab_type": "text"
      },
      "source": [
        "The big climate data is reduced with the help of Hadoop MapReduce framework spatial cumulative sum algorithm is proposed to monitor the seasonal changes in the climate data. MapReduce algorithm is used to create a table in Apache HBase with the help of Apache Hive. The huge day wise climate is reduced to seasonal data with the help of Apache MapRedcue framework."
      ]
    },
    {
      "cell_type": "markdown",
      "metadata": {
        "id": "JwVI8k5rPaxS",
        "colab_type": "text"
      },
      "source": [
        "# Cumulative sum method\n",
        "Cumulative sum methods are used to detect the slow and drastic changes in the mean value of a quantity of interest. This method is used in many application it includes monitor the changes in the production environment, disease expectation, fish populations, deforestation and crime analysis. This paper uses cumulative sum method to monitor the changes in the climate. Taylor has developed the change point analysis method with the help of cumulative sum charts (CUSUM) and bootstrapping analysis methods. CUSUM control chart can be calculated as follows:\n",
        "\n",
        "Calculate the average for ‘n’ data points\n",
        " X1, X2, …, Xn, by the following equation:                              \n",
        "` X = X1+X2+…+Xn`\n",
        "\n",
        "The cumulative sum value SI is calculated based on the following equation:\n",
        "`SI=Si−1+(Xi−X)fori=1,2,…,n       `                                        Where,\n",
        "S0=0\n",
        "\n",
        "Calculate the maximum and minimum Smax and Smin, by the following equation\n",
        "`Smax= maxi=0,1,…,n Si`\n",
        "`Smin= mini=0,1,…,n Si`\n",
        "\n",
        "Calculate the Sdiff Values to find the changes in cumulative sum value SI, by the following equation:\n",
        "`Sdiff=Smax−Smin`"
      ]
    },
    {
      "cell_type": "markdown",
      "metadata": {
        "id": "CdrV-0QUPay7",
        "colab_type": "text"
      },
      "source": [
        "# Bootstrap analysis method\n",
        "Cumulative sum method is used to find noticeable shift or change in the average. However, the bootstrap analysis is an additional metric used to determine the significant changes calculated by randomly reordering the original ‘n’ values. This bootstrap analysis is used to verify the changes initially calculated from the cumulative sum value SI. The confidence level is calculated for the bootstrap analysis results. A single bootstrap consists of the following steps:\n",
        "\n",
        "Step 1: Reorder the original ‘n’ values X01, X02, …, X0n using sampling without replacement method.\n",
        "\n",
        "Step 2: Calculate the cumulative sum values S00, S01, …, S0n.\n",
        "\n",
        "Step 3: Calculate the maximum, minimum and difference S0max, S0min, and S0diff values.\n",
        "\n",
        "Step 4: Identify the bootstrap difference S0diff is less than the original difference Sdiff.\n",
        "\n",
        "The vital role of the bootstrap analysis is to identify the significant level of the cumulative sum results if no change has occurred. Number of bootstrap analyses is performed to calculate the confidence level of the changes\n",
        "\n",
        "Confidence level CI can be calculated, by the following equation\n",
        "```\n",
        "ConfidenceLevel(CI)=100*X/N\n",
        "```\n",
        "Where,\n",
        "N = Number of bootstrap samples performed\n",
        "\n",
        "X = Number of bootstraps for which S0diff < Sdiff\n"
      ]
    }
  ]
}